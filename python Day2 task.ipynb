{
 "cells": [
  {
   "cell_type": "code",
   "execution_count": null,
   "metadata": {},
   "outputs": [
    {
     "name": "stdout",
     "output_type": "stream",
     "text": [
      "Requirement already satisfied: ColabTurtle in c:\\users\\hp\\anaconda3\\lib\\site-packages (2.0.0)\n"
     ]
    },
    {
     "data": {
      "text/html": [
       "\n",
       "      <svg width=\"800\" height=\"500\">\n",
       "        <rect width=\"100%\" height=\"100%\" fill=\"black\"/>\n",
       "        <line x1=\"400\" y1=\"250\" x2=\"400.0\" y2=\"150.0\" stroke-linecap=\"round\" style=\"stroke:white;stroke-width:4\"/><line x1=\"400.0\" y1=\"150.0\" x2=\"499.7564050259824\" y2=\"156.97564737441252\" stroke-linecap=\"round\" style=\"stroke:white;stroke-width:4\"/><line x1=\"499.7564050259824\" y1=\"156.97564737441252\" x2=\"485.8390949299759\" y2=\"256.00245424856956\" stroke-linecap=\"round\" style=\"stroke:white;stroke-width:4\"/><line x1=\"485.8390949299759\" y1=\"256.00245424856956\" x2=\"388.0243348565953\" y2=\"235.2112851667936\" stroke-linecap=\"round\" style=\"stroke:white;stroke-width:4\"/><line x1=\"388.0243348565953\" y1=\"235.2112851667936\" x2=\"415.58807043829523\" y2=\"139.08511557296174\" stroke-linecap=\"round\" style=\"stroke:white;stroke-width:4\"/><line x1=\"415.58807043829523\" y1=\"139.08511557296174\" x2=\"509.55733251688605\" y2=\"173.28712990552862\" stroke-linecap=\"round\" style=\"stroke:white;stroke-width:4\"/><line x1=\"509.55733251688605\" y1=\"173.28712990552862\" x2=\"468.88366820930605\" y2=\"264.6416756697887\" stroke-linecap=\"round\" style=\"stroke:white;stroke-width:4\"/><line x1=\"468.88366820930605\" y1=\"264.6416756697887\" x2=\"380.5889089234134\" y2=\"217.6945193911996\" stroke-linecap=\"round\" style=\"stroke:white;stroke-width:4\"/><line x1=\"380.5889089234134\" y1=\"217.6945193911996\" x2=\"433.58083534673386\" y2=\"132.88970977555698\" stroke-linecap=\"round\" style=\"stroke:white;stroke-width:4\"/><line x1=\"433.58083534673386\" y1=\"132.88970977555698\" x2=\"514.4825347842286\" y2=\"191.6682350048043\" stroke-linecap=\"round\" style=\"stroke:white;stroke-width:4\"/><line x1=\"514.4825347842286\" y1=\"191.6682350048043\" x2=\"450.20377381557466\" y2=\"268.2726793167021\" stroke-linecap=\"round\" style=\"stroke:white;stroke-width:4\"/><line x1=\"450.20377381557466\" y1=\"268.2726793167021\" x2=\"378.26979378170955\" y2=\"198.8068422708024\" stroke-linecap=\"round\" style=\"stroke:white;stroke-width:4\"/><line x1=\"378.26979378170955\" y1=\"198.8068422708024\" x2=\"452.584276329449\" y2=\"131.8937816349166\" stroke-linecap=\"round\" style=\"stroke:white;stroke-width:4\"/><line x1=\"452.584276329449\" y1=\"131.8937816349166\" x2=\"514.1504238620148\" y2=\"210.6948569955888\" stroke-linecap=\"round\" style=\"stroke:white;stroke-width:4\"/><line x1=\"514.1504238620148\" y1=\"210.6948569955888\" x2=\"431.24666660651064\" y2=\"266.6141473426635\" stroke-linecap=\"round\" style=\"stroke:white;stroke-width:4\"/>\n",
       "        \n",
       "      <g visibility=visible transform=\"rotate(146,431.24666660651064,266.6141473426635) translate(431.24666660651064, 266.6141473426635)\">\n",
       "        <circle stroke=\"white\" stroke-width=\"3\" fill=\"transparent\" r=\"12\" cx=\"0\" cy=\"0\"/>\n",
       "        <polygon points=\"0,19 3,16 -3,16\" style=\"fill:white;stroke:white;stroke-width:2\"/>\n",
       "      </g>\n",
       "    \n",
       "      </svg>\n",
       "    "
      ],
      "text/plain": [
       "<IPython.core.display.HTML object>"
      ]
     },
     "metadata": {},
     "output_type": "display_data"
    }
   ],
   "source": [
    "!pip3 install ColabTurtle\n",
    "from ColabTurtle.Turtle import *\n",
    "initializeTurtle()\n",
    "for x in range(100):\n",
    "    for i in range(4):\n",
    "        forward(100)\n",
    "        right(90)\n",
    "        right(4)"
   ]
  },
  {
   "cell_type": "code",
   "execution_count": null,
   "metadata": {},
   "outputs": [],
   "source": []
  }
 ],
 "metadata": {
  "kernelspec": {
   "display_name": "Python 3",
   "language": "python",
   "name": "python3"
  },
  "language_info": {
   "codemirror_mode": {
    "name": "ipython",
    "version": 3
   },
   "file_extension": ".py",
   "mimetype": "text/x-python",
   "name": "python",
   "nbconvert_exporter": "python",
   "pygments_lexer": "ipython3",
   "version": "3.8.5"
  }
 },
 "nbformat": 4,
 "nbformat_minor": 4
}
