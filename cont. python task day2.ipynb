{
 "cells": [
  {
   "cell_type": "code",
   "execution_count": null,
   "metadata": {},
   "outputs": [],
   "source": [
    "number = int(input(\"Guess the right number(between 10-15)\"))\n",
    "if number <= 10:\n",
    "    print(\"pls do not go lower than 10\")\n",
    "elif number >= 15:\n",
    "    print(\"it's not more than15 \")\n",
    "elif number >=11:\n",
    "    print(\"try again\")\n",
    "elif number >=12:\n",
    "    print(\"higher than that\")\n",
    "elif number >=13:\n",
    "    print(\"you are almost there\")\n",
    "elif number >=14:\n",
    "    print(\"try again\")\n",
    "else:  \n",
    "    print(\"you got it right\")"
   ]
  },
  {
   "cell_type": "code",
   "execution_count": null,
   "metadata": {},
   "outputs": [],
   "source": []
  },
  {
   "cell_type": "code",
   "execution_count": null,
   "metadata": {},
   "outputs": [],
   "source": []
  },
  {
   "cell_type": "code",
   "execution_count": null,
   "metadata": {},
   "outputs": [],
   "source": []
  }
 ],
 "metadata": {
  "kernelspec": {
   "display_name": "Python 3",
   "language": "python",
   "name": "python3"
  },
  "language_info": {
   "codemirror_mode": {
    "name": "ipython",
    "version": 3
   },
   "file_extension": ".py",
   "mimetype": "text/x-python",
   "name": "python",
   "nbconvert_exporter": "python",
   "pygments_lexer": "ipython3",
   "version": "3.8.5"
  }
 },
 "nbformat": 4,
 "nbformat_minor": 4
}
