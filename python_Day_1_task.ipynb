{
  "nbformat": 4,
  "nbformat_minor": 0,
  "metadata": {
    "colab": {
      "name": "python Day 1 task",
      "provenance": []
    },
    "kernelspec": {
      "name": "python3",
      "display_name": "Python 3"
    }
  },
  "cells": [
    {
      "cell_type": "code",
      "metadata": {
        "colab": {
          "base_uri": "https://localhost:8080/"
        },
        "id": "MT-F78uOr_k4",
        "outputId": "c54c8ce1-9dfe-44a0-b891-6c25b321434a"
      },
      "source": [
        "input(\"Enter your name\")\r\n",
        "print(\"welcome name\")"
      ],
      "execution_count": 3,
      "outputs": [
        {
          "output_type": "stream",
          "text": [
            "Enter your nameatheer\n",
            "welcome name\n"
          ],
          "name": "stdout"
        }
      ]
    },
    {
      "cell_type": "code",
      "metadata": {
        "colab": {
          "base_uri": "https://localhost:8080/"
        },
        "id": "2qe6ccRNwVF2",
        "outputId": "be52b769-90cb-499a-a26a-2e7a40ecf2ba"
      },
      "source": [
        "num1 = float(input(\"Enter Number 1:\"))\r\n",
        "num2 = float (input(\"Enter Number 2:\"))\r\n",
        "print(num1+num2)"
      ],
      "execution_count": 4,
      "outputs": [
        {
          "output_type": "stream",
          "text": [
            "Enter Number 1:2.1\n",
            "Enter Number 2:3.1\n",
            "5.2\n"
          ],
          "name": "stdout"
        }
      ]
    },
    {
      "cell_type": "markdown",
      "metadata": {
        "id": "JwiOlejitp7x"
      },
      "source": [
        ""
      ]
    }
  ]
}